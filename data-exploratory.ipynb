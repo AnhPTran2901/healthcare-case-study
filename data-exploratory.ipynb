{
 "cells": [
  {
   "cell_type": "code",
   "execution_count": 1,
   "metadata": {},
   "outputs": [],
   "source": [
    "import pandas as pd\n",
    "\n",
    "# Load the dataset\n",
    "file_path = './data/Data Insights - Synthetic Dataset.xlsx'\n",
    "df = pd.read_excel(file_path, sheet_name='Data Insights - Synthetic Datas')\n",
    "\n"
   ]
  },
  {
   "cell_type": "code",
   "execution_count": null,
   "metadata": {},
   "outputs": [],
   "source": [
    "# Function to identify data quality issues\n",
    "def identify_data_issues(df):\n",
    "    print(\"1. Checking for missing values...\")\n",
    "    missing_values = df.isnull().sum()\n",
    "    print(missing_values[missing_values > 0])\n",
    "\n",
    "    print(\"\\n2. Checking for duplicate rows...\")\n",
    "    duplicate_rows = df.duplicated().sum()\n",
    "    print(f\"Number of duplicate rows: {duplicate_rows}\")\n",
    "\n",
    "    print(\"\\n3. Checking for data types...\")\n",
    "    print(df.dtypes)\n",
    "\n",
    "    print(\"\\n4. Checking for columns with unexpected or inconsistent data types...\")\n",
    "    # Looking for columns that should be numeric but have object types\n",
    "    numeric_columns = df.select_dtypes(include=['object'])\n",
    "    print(f\"Potential issues in numeric columns stored as objects: {numeric_columns.columns.tolist()}\")\n",
    "\n",
    "    print(\"\\n5. Checking for outliers in numeric columns...\")\n",
    "    numeric_data = df.select_dtypes(include=['float64', 'int64'])\n",
    "    print(numeric_data.describe())\n",
    "\n",
    "    print(\"\\n6. Summary of column value ranges and potential data entry issues...\")\n",
    "    for col in numeric_data.columns:\n",
    "        min_val = numeric_data[col].min()\n",
    "        max_val = numeric_data[col].max()\n",
    "        print(f\"Column {col} - Min: {min_val}, Max: {max_val}\")\n",
    "\n",
    "    print(\"\\n7. Checking for invalid or extreme outliers (e.g., extremely high pharmacy charges)...\")\n",
    "    extreme_outliers = df[(df['PharmacyCharge'] > 1e10) | (df['AccommodationCharge'] > 1e10)]\n",
    "    print(f\"Number of extreme outliers in charges: {extreme_outliers.shape[0]}\")\n",
    "\n",
    "# Running the data quality check\n",
    "identify_data_issues(df)"
   ]
  }
 ],
 "metadata": {
  "kernelspec": {
   "display_name": "healthcare-case-study",
   "language": "python",
   "name": "python3"
  },
  "language_info": {
   "codemirror_mode": {
    "name": "ipython",
    "version": 3
   },
   "file_extension": ".py",
   "mimetype": "text/x-python",
   "name": "python",
   "nbconvert_exporter": "python",
   "pygments_lexer": "ipython3",
   "version": "3.11.10"
  }
 },
 "nbformat": 4,
 "nbformat_minor": 2
}
